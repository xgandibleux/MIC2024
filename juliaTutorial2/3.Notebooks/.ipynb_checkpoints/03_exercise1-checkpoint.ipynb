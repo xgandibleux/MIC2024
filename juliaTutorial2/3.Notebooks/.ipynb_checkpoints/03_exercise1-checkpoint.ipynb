{
 "cells": [
  {
   "cell_type": "markdown",
   "metadata": {},
   "source": [
    "# Compute a “good” initial solution"
   ]
  },
  {
   "cell_type": "markdown",
   "metadata": {},
   "source": [
    "The purpose of this tutorial is to demonstrate how to construct and improve a solution for the Set Packing Problem."
   ]
  },
  {
   "cell_type": "markdown",
   "metadata": {},
   "source": [
    "---- \n",
    "## 1. Loading a SPP instance"
   ]
  },
  {
   "cell_type": "markdown",
   "metadata": {},
   "source": [
    "#### Load the parser"
   ]
  },
  {
   "cell_type": "code",
   "execution_count": 95,
   "metadata": {},
   "outputs": [
    {
     "data": {
      "text/plain": [
       "\"../2.codes/\""
      ]
     },
     "execution_count": 95,
     "metadata": {},
     "output_type": "execute_result"
    }
   ],
   "source": [
    "path = \"../2.codes/\""
   ]
  },
  {
   "cell_type": "code",
   "execution_count": 96,
   "metadata": {},
   "outputs": [
    {
     "data": {
      "text/plain": [
       "loadInstanceRAIL (generic function with 1 method)"
      ]
     },
     "execution_count": 96,
     "metadata": {},
     "output_type": "execute_result"
    }
   ],
   "source": [
    "include(path * \"MICparse.jl\")"
   ]
  },
  {
   "cell_type": "markdown",
   "metadata": {},
   "source": [
    "#### Read an instance:"
   ]
  },
  {
   "cell_type": "code",
   "execution_count": 97,
   "metadata": {},
   "outputs": [
    {
     "data": {
      "text/plain": [
       "([10, 13, 11, 19, 20, 20, 7, 11, 20, 13  …  6, 19, 8, 6, 2, 14, 10, 1, 1, 16], [0 0 … 0 0; 0 0 … 0 0; … ; 0 0 … 0 0; 0 0 … 0 0])"
      ]
     },
     "execution_count": 97,
     "metadata": {},
     "output_type": "execute_result"
    }
   ],
   "source": [
    "fname = \"didactic.dat\"\n",
    "C_in, A_in  = loadSPP(fname)"
   ]
  },
  {
   "cell_type": "markdown",
   "metadata": {},
   "source": [
    "---- \n",
    "\n",
    "## 2. Construct a solution\n",
    "\n",
    "Constructive greedy algorithm (high level implementation)"
   ]
  },
  {
   "cell_type": "markdown",
   "metadata": {},
   "source": [
    "#### Initialization:"
   ]
  },
  {
   "cell_type": "code",
   "execution_count": 98,
   "metadata": {},
   "outputs": [
    {
     "data": {
      "text/plain": [
       "Int64[]"
      ]
     },
     "execution_count": 98,
     "metadata": {},
     "output_type": "execute_result"
    }
   ],
   "source": [
    "# data\n",
    "m,n = size(A_in)\n",
    "C = copy(C_in)\n",
    "A = copy(A_in)\n",
    "\n",
    "# solution\n",
    "z = 0  \n",
    "x = zeros(Int64, n) \n",
    "\n",
    "freeVariables = collect(1:n)      # all variables are free\n",
    "saturatedConstraints = Int64[]    # none constraint is saturated"
   ]
  },
  {
   "cell_type": "markdown",
   "metadata": {},
   "source": [
    "#### Remove from the instance all variables occuring in none constraint:"
   ]
  },
  {
   "cell_type": "code",
   "execution_count": 99,
   "metadata": {},
   "outputs": [
    {
     "data": {
      "text/plain": [
       "500×100 Matrix{Int64}:\n",
       " 0  0  0  1  0  0  0  0  0  0  0  0  0  …  0  0  0  0  0  0  0  0  0  0  0  0\n",
       " 0  0  0  0  1  0  0  0  0  0  0  0  0     1  0  0  0  0  0  0  0  0  0  0  0\n",
       " 0  0  0  0  0  0  0  0  0  0  0  0  0     0  0  0  0  0  0  0  0  0  0  0  0\n",
       " 0  0  0  0  0  0  0  0  0  0  0  0  0     0  0  0  0  0  0  0  0  0  0  0  0\n",
       " 0  0  0  0  0  0  0  0  1  0  0  0  0     0  0  0  0  0  0  0  0  0  0  0  0\n",
       " 0  0  0  0  0  0  0  0  0  0  0  0  0  …  0  0  0  0  0  0  0  1  0  0  0  0\n",
       " 0  0  0  0  0  0  0  0  0  0  0  0  0     0  0  0  0  0  0  0  0  0  0  0  0\n",
       " 0  0  0  0  0  0  0  1  0  1  0  0  0     0  0  0  0  0  0  0  0  0  0  0  0\n",
       " 0  0  0  0  0  0  0  0  0  0  0  0  0     0  0  0  0  0  0  0  0  0  0  0  0\n",
       " 0  0  0  0  0  0  0  0  0  0  0  0  0     0  0  0  0  0  0  0  0  0  0  0  0\n",
       " 0  0  0  0  0  0  1  0  0  0  0  0  0  …  0  0  0  0  0  0  0  0  0  0  0  0\n",
       " 1  0  0  0  0  0  0  0  0  0  0  0  0     0  0  0  0  0  0  0  0  0  0  0  0\n",
       " 0  0  0  0  0  0  0  0  0  0  0  0  1     0  0  0  0  0  0  0  0  0  0  0  0\n",
       " ⋮              ⋮              ⋮        ⋱        ⋮              ⋮           \n",
       " 0  0  0  0  0  0  0  0  0  0  0  0  0     0  0  0  0  0  0  0  0  0  0  1  0\n",
       " 0  0  0  0  0  0  0  0  0  0  0  0  0     0  0  0  0  0  0  0  0  0  0  0  0\n",
       " 0  0  0  0  0  0  0  0  0  0  0  0  0  …  0  0  0  0  0  0  0  0  1  0  0  0\n",
       " 1  0  0  0  0  0  0  0  0  0  0  0  0     0  0  0  0  0  0  0  0  0  0  0  0\n",
       " 0  0  0  0  0  0  0  0  0  0  0  0  0     0  0  1  0  0  0  0  0  0  0  0  0\n",
       " 0  0  0  0  0  0  0  0  0  0  0  0  0     0  0  0  0  1  0  0  0  0  0  0  0\n",
       " 0  0  0  0  0  0  0  0  0  0  0  0  0     0  0  0  0  0  0  0  0  0  1  0  0\n",
       " 0  0  0  0  0  0  1  0  0  0  0  0  0  …  0  0  0  0  0  0  0  0  0  0  0  0\n",
       " 0  0  0  0  0  0  0  0  0  0  0  0  0     0  0  0  0  0  0  0  0  0  0  0  0\n",
       " 0  0  0  0  0  0  0  0  0  0  0  1  0     0  0  0  0  0  0  0  0  0  0  0  0\n",
       " 0  0  1  0  0  0  0  0  0  0  0  0  0     0  0  0  0  0  0  0  0  0  0  0  0\n",
       " 0  0  0  0  0  0  0  0  0  0  0  0  0     0  0  0  0  0  0  0  0  0  0  0  0"
      ]
     },
     "execution_count": 99,
     "metadata": {},
     "output_type": "execute_result"
    }
   ],
   "source": [
    "# identify all variables occuring in none constraint\n",
    "variablesNotConstrained = findall( isequal(0) , vec( sum(A, dims=1) ) )\n",
    "\n",
    "# fix to 1 into the solution all variables occuring in none constraint\n",
    "x[variablesNotConstrained] .= 1\n",
    "z += sum( C[variablesNotConstrained] )    \n",
    "\n",
    "# remove from the list of free variables those how have been fixed\n",
    "freeVariables = freeVariables[ setdiff( 1:end , variablesNotConstrained ) ]\n",
    "\n",
    "# remove columns corresponding to fixed variables\n",
    "C = C[ setdiff( 1:end , variablesNotConstrained ) ]\n",
    "A = A[ : , setdiff( 1:end , variablesNotConstrained ) ]"
   ]
  },
  {
   "cell_type": "markdown",
   "metadata": {},
   "source": [
    "#### Select iteratively variables to add into the solution:"
   ]
  },
  {
   "cell_type": "code",
   "execution_count": 100,
   "metadata": {},
   "outputs": [],
   "source": [
    "while (size(A,1) != 0) && (size(C,1) != 0)\n",
    "\n",
    "    \n",
    "    # ---------------------------------------------------------------------\n",
    "    # select one variable and add it into the current solution\n",
    "\n",
    "    utility = C ./ vec( sum(A, dims=1) )\n",
    "    variableSelected = argmax(utility)\n",
    "\n",
    "    x[ freeVariables[ variableSelected ] ] = 1 \n",
    "    z += C[variableSelected] \n",
    "\n",
    "    \n",
    "    # ---------------------------------------------------------------------\n",
    "    # identify all the variables impacted by the variable fixed \n",
    "\n",
    "    # identify all constraints concerned by the selected variable: constraints saturated => to remove\n",
    "    saturatedConstraints = findall( isequal(1) , A[ : , variableSelected ] ) \n",
    "\n",
    "    # identify all variables linked to the variable selected\n",
    "    linkedVariables = Int64[]\n",
    "    for i in saturatedConstraints \n",
    "        linkedVariables = union( linkedVariables , findall( isequal(1) , A[i,:] ) ) \n",
    "    end\n",
    "    linkedVariables = unique(linkedVariables) \n",
    "\n",
    "    # remove from the list of free variables those how are linked (and thus fixed)\n",
    "    freeVariables = freeVariables[ setdiff( 1:end , linkedVariables ) ]\n",
    "\n",
    "    \n",
    "    # ---------------------------------------------------------------------\n",
    "    # reduce the instance consequently to the fixed variables\n",
    "\n",
    "    # remove columns corresponding to fixed variables\n",
    "    C = C[ setdiff(1:end , linkedVariables) ]\n",
    "    A = A[ : , setdiff( 1:end , linkedVariables ) ]\n",
    "\n",
    "    # remove lines of A corresponding to saturated constraints\n",
    "    A = A[ setdiff( 1:end , saturatedConstraints ) , : ]\n",
    "\n",
    "    \n",
    "    # ---------------------------------------------------------------------\n",
    "    # remove lines of A containing only zero value => constraint not related to a variable\n",
    "\n",
    "    removableConstraints = Int64[]\n",
    "    for line in (1:size(A,1))\n",
    "        if findfirst( isequal(1) , A[line,:] ) == nothing\n",
    "            removableConstraints = union( removableConstraints , line )\n",
    "        end\n",
    "    end\n",
    "    A = A[ setdiff( 1:end , removableConstraints ) , : ]\n",
    "\n",
    "end"
   ]
  },
  {
   "cell_type": "markdown",
   "metadata": {},
   "source": [
    "We can now show the feasible solution:"
   ]
  },
  {
   "cell_type": "code",
   "execution_count": 101,
   "metadata": {},
   "outputs": [
    {
     "name": "stdout",
     "output_type": "stream",
     "text": [
      "x = [1, 0, 0, 1, 1, 0, 0, 1, 1, 0, 0, 0, 0, 1, 1, 0, 0, 0, 0, 1, 0, 0, 0, 1, 0, 0, 0, 0, 1, 0, 0, 0, 0, 0, 1, 0, 0, 0, 0, 0, 1, 0, 1, 1, 0, 0, 0, 1, 0, 0, 0, 0, 0, 0, 1, 0, 0, 0, 1, 0, 0, 0, 0, 0, 0, 1, 0, 0, 0, 0, 1, 1, 0, 0, 0, 0, 1, 0, 0, 0, 0, 0, 1, 0, 0, 0, 1, 0, 0, 1, 0, 0, 0, 0, 0, 0, 0, 0, 0, 0]\n"
     ]
    },
    {
     "data": {
      "text/plain": [
       "100-element Vector{Int64}:\n",
       " 1\n",
       " 0\n",
       " 0\n",
       " 1\n",
       " 1\n",
       " 0\n",
       " 0\n",
       " 1\n",
       " 1\n",
       " 0\n",
       " 0\n",
       " 0\n",
       " 0\n",
       " ⋮\n",
       " 0\n",
       " 1\n",
       " 0\n",
       " 0\n",
       " 0\n",
       " 0\n",
       " 0\n",
       " 0\n",
       " 0\n",
       " 0\n",
       " 0\n",
       " 0"
      ]
     },
     "execution_count": 101,
     "metadata": {},
     "output_type": "execute_result"
    }
   ],
   "source": [
    "@show x"
   ]
  },
  {
   "cell_type": "code",
   "execution_count": 102,
   "metadata": {},
   "outputs": [
    {
     "name": "stdout",
     "output_type": "stream",
     "text": [
      "z = 342\n"
     ]
    },
    {
     "data": {
      "text/plain": [
       "342"
      ]
     },
     "execution_count": 102,
     "metadata": {},
     "output_type": "execute_result"
    }
   ],
   "source": [
    "@show z"
   ]
  },
  {
   "cell_type": "code",
   "execution_count": 103,
   "metadata": {},
   "outputs": [
    {
     "data": {
      "text/plain": [
       "24-element Vector{Int64}:\n",
       "  1\n",
       "  4\n",
       "  5\n",
       "  8\n",
       "  9\n",
       " 14\n",
       " 15\n",
       " 20\n",
       " 24\n",
       " 29\n",
       " 35\n",
       " 41\n",
       " 43\n",
       " 44\n",
       " 48\n",
       " 55\n",
       " 59\n",
       " 66\n",
       " 71\n",
       " 72\n",
       " 77\n",
       " 83\n",
       " 87\n",
       " 90"
      ]
     },
     "execution_count": 103,
     "metadata": {},
     "output_type": "execute_result"
    }
   ],
   "source": [
    "x1 = [i for i in 1:n if x[i] > 0.5]"
   ]
  },
  {
   "cell_type": "markdown",
   "metadata": {},
   "source": [
    "----- \n",
    "\n",
    "## 3. Improve the solution\n",
    "\n",
    "Local search greedy algorithm improving a feasible solution"
   ]
  },
  {
   "cell_type": "markdown",
   "metadata": {},
   "source": [
    "#### Initialization"
   ]
  },
  {
   "cell_type": "code",
   "execution_count": 104,
   "metadata": {},
   "outputs": [],
   "source": [
    "C = copy(C_in)\n",
    "A = copy(A_in)\n",
    "\n",
    "xCurr = copy(x); zCurr = z             # current solution \n",
    "xBest = copy(x); zBest = z             # best solution\n",
    "\n",
    "var0 = findall(isequal(0), xCurr[:])   # collect indexes of variables equal to 0\n",
    "var1 = findall(isequal(1), xCurr[:])   # collect indexes of variables equal to 1\n",
    "\n",
    "# current RHS vector for the variables set to 1 => identify all the constraints saturated (1) and non-saturated (0)\n",
    "rhsCurr = zeros(Int, size(A,1))\n",
    "for j in var1\n",
    "    rhsCurr = rhsCurr + A[:,j] \n",
    "end"
   ]
  },
  {
   "cell_type": "markdown",
   "metadata": {},
   "source": [
    "#### local search (deepest ascent )"
   ]
  },
  {
   "cell_type": "code",
   "execution_count": 105,
   "metadata": {},
   "outputs": [],
   "source": [
    "using Printf"
   ]
  },
  {
   "cell_type": "code",
   "execution_count": 106,
   "metadata": {},
   "outputs": [
    {
     "name": "stdout",
     "output_type": "stream",
     "text": [
      "    exchange  59  77  70 | z(x) = 347\n"
     ]
    }
   ],
   "source": [
    "# neighborhood visited with the move 2-1 exchange -------------------------\n",
    "\n",
    "succes = true\n",
    "while succes == true\n",
    "\n",
    "    j01Best  = 0; j10aBest = 0; j10bBest = 0\n",
    "    succes = false\n",
    "\n",
    "    # visit the entire neighborhood from the current solution -------------\n",
    "    for j10a in var1\n",
    "        for j10b in var1[var1 .> j10a]\n",
    "            for j01 in var0\n",
    "\n",
    "                # consider a neighboor: \n",
    "                #  1) test if the value of the neighboor is better than the zbest known \n",
    "                #  2) test if the neighboor is feasible after the considered move  \n",
    "                \n",
    "                if  (   (zCurr - C[j10a] - C[j10b] + C[j01] > zBest) \n",
    "                     && (findfirst( x -> x>1 , rhsCurr - A[:,j10a] - A[:,j10b] + A[:,j01] ) == nothing)\n",
    "                    )\n",
    "                    \n",
    "                    # a neighboor improving the best solution known is found in the neighborhood\n",
    "                    # => record the move and the value of the new best solution found\n",
    "\n",
    "                    j01Best  = j01; j10aBest = j10a ; j10bBest = j10b\n",
    "                    zBest    = zCurr - C[j10aBest] - C[j10bBest] + C[j01Best]\n",
    "                    succes   = true\n",
    "                    \n",
    "                end\n",
    "            end\n",
    "        end\n",
    "    end\n",
    "\n",
    "    # succes => apply the improving move identified, giving a new current solution\n",
    "    if succes\n",
    "\n",
    "        var0 = setdiff(var0,j01Best)                                     \n",
    "        push!(var0,j10aBest); push!(var0,j10bBest)\n",
    "\n",
    "        var1 = setdiff(var1,j10aBest);  var1 = setdiff(var1,j10bBest)\n",
    "        push!(var1,j01Best)\n",
    "\n",
    "        xBest[j01Best] = 1;  xBest[j10aBest] = 0;  xBest[j10bBest] = 0\n",
    "        zCurr = zBest\n",
    "        rhsCurr = rhsCurr - A[:,j10aBest] - A[:,j10bBest] + A[:,j01Best]\n",
    "\n",
    "        @printf(\"    exchange %3d %3d %3d \",j10aBest, j10bBest, j01Best)\n",
    "        println(\"| z(x) = \", zBest)\n",
    "\n",
    "    end\n",
    "end"
   ]
  },
  {
   "cell_type": "markdown",
   "metadata": {},
   "source": [
    "We can now show the improved solution:"
   ]
  },
  {
   "cell_type": "code",
   "execution_count": 107,
   "metadata": {},
   "outputs": [
    {
     "name": "stdout",
     "output_type": "stream",
     "text": [
      "xBest = [1, 0, 0, 1, 1, 0, 0, 1, 1, 0, 0, 0, 0, 1, 1, 0, 0, 0, 0, 1, 0, 0, 0, 1, 0, 0, 0, 0, 1, 0, 0, 0, 0, 0, 1, 0, 0, 0, 0, 0, 1, 0, 1, 1, 0, 0, 0, 1, 0, 0, 0, 0, 0, 0, 1, 0, 0, 0, 0, 0, 0, 0, 0, 0, 0, 1, 0, 0, 0, 1, 1, 1, 0, 0, 0, 0, 0, 0, 0, 0, 0, 0, 1, 0, 0, 0, 1, 0, 0, 1, 0, 0, 0, 0, 0, 0, 0, 0, 0, 0]\n"
     ]
    },
    {
     "data": {
      "text/plain": [
       "100-element Vector{Int64}:\n",
       " 1\n",
       " 0\n",
       " 0\n",
       " 1\n",
       " 1\n",
       " 0\n",
       " 0\n",
       " 1\n",
       " 1\n",
       " 0\n",
       " 0\n",
       " 0\n",
       " 0\n",
       " ⋮\n",
       " 0\n",
       " 1\n",
       " 0\n",
       " 0\n",
       " 0\n",
       " 0\n",
       " 0\n",
       " 0\n",
       " 0\n",
       " 0\n",
       " 0\n",
       " 0"
      ]
     },
     "execution_count": 107,
     "metadata": {},
     "output_type": "execute_result"
    }
   ],
   "source": [
    "@show xBest"
   ]
  },
  {
   "cell_type": "code",
   "execution_count": 108,
   "metadata": {},
   "outputs": [
    {
     "name": "stdout",
     "output_type": "stream",
     "text": [
      "zBest = 347\n"
     ]
    },
    {
     "data": {
      "text/plain": [
       "347"
      ]
     },
     "execution_count": 108,
     "metadata": {},
     "output_type": "execute_result"
    }
   ],
   "source": [
    "@show zBest"
   ]
  },
  {
   "cell_type": "code",
   "execution_count": 109,
   "metadata": {},
   "outputs": [
    {
     "data": {
      "text/plain": [
       "23-element Vector{Int64}:\n",
       "  1\n",
       "  4\n",
       "  5\n",
       "  8\n",
       "  9\n",
       " 14\n",
       " 15\n",
       " 20\n",
       " 24\n",
       " 29\n",
       " 35\n",
       " 41\n",
       " 43\n",
       " 44\n",
       " 48\n",
       " 55\n",
       " 66\n",
       " 70\n",
       " 71\n",
       " 72\n",
       " 83\n",
       " 87\n",
       " 90"
      ]
     },
     "execution_count": 109,
     "metadata": {},
     "output_type": "execute_result"
    }
   ],
   "source": [
    "x1 = [i for i in 1:n if xBest[i] > 0.5]"
   ]
  },
  {
   "cell_type": "markdown",
   "metadata": {},
   "source": [
    "----- \n",
    "\n",
    "## With a function"
   ]
  },
  {
   "cell_type": "code",
   "execution_count": 110,
   "metadata": {},
   "outputs": [
    {
     "data": {
      "text/plain": [
       "localSearch (generic function with 1 method)"
      ]
     },
     "execution_count": 110,
     "metadata": {},
     "output_type": "execute_result"
    }
   ],
   "source": [
    "using Printf\n",
    "\n",
    "path = \"../2.codes/\"\n",
    "include(path * \"MICparse.jl\")\n",
    "include(path * \"MICconstructionGreedy.jl\")\n",
    "include(path * \"MICimprovement.jl\")"
   ]
  },
  {
   "cell_type": "code",
   "execution_count": 111,
   "metadata": {},
   "outputs": [
    {
     "data": {
      "text/plain": [
       "exercise1 (generic function with 1 method)"
      ]
     },
     "execution_count": 111,
     "metadata": {},
     "output_type": "execute_result"
    }
   ],
   "source": [
    "function exercise1(fname)\n",
    "\n",
    "    C, A  = loadSPP(fname)\n",
    "\n",
    "    xConstruction, zConstruction, tConstruction = greedyConstruction(C, A)\n",
    "    xImprovement, zImprovement, tImprovement = localSearch(C, A, xConstruction, zConstruction)\n",
    "\n",
    "    println(\"-----------------------------------------------------------------\")\n",
    "    println(\"Instance : \",fname)\n",
    "    @printf(\"  z(xCon) = %d | t = %f sec\\n\", zConstruction, tConstruction)\n",
    "    @printf(\"  z(xImp) = %d | t = %f sec \\n\\n\", zImprovement, tImprovement)\n",
    "\n",
    "    return nothing\n",
    "    \n",
    "end"
   ]
  },
  {
   "cell_type": "code",
   "execution_count": 113,
   "metadata": {},
   "outputs": [
    {
     "name": "stdout",
     "output_type": "stream",
     "text": [
      "  Construction (greedy)...\n",
      "   ↳ done!\n",
      "  Improvement... \n",
      "   ↳ done!\n",
      "-----------------------------------------------------------------\n",
      "Instance : pb_500rnd0100.dat\n",
      "  z(xCon) = 285 | t = 0.100963 sec\n",
      "  z(xImp) = 285 | t = 0.006989 sec \n",
      "\n"
     ]
    }
   ],
   "source": [
    "#fname = \"didactic.dat\"\n",
    "#fname = \"pb_100rnd0100.dat\"\n",
    "#fname = \"pb_200rnd0900.dat\"\n",
    "#fname = \"pb_500rnd0100.dat\"\n",
    "\n",
    "exercise1(fname)"
   ]
  }
 ],
 "metadata": {
  "kernelspec": {
   "display_name": "Julia 1.10.0",
   "language": "julia",
   "name": "julia-1.10"
  },
  "language_info": {
   "file_extension": ".jl",
   "mimetype": "application/julia",
   "name": "julia",
   "version": "1.10.0"
  }
 },
 "nbformat": 4,
 "nbformat_minor": 3
}
