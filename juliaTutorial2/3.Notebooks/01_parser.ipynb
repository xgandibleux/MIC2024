{
 "cells": [
  {
   "cell_type": "markdown",
   "metadata": {},
   "source": [
    "# A parser for instances of Set Packing Problems"
   ]
  },
  {
   "cell_type": "markdown",
   "metadata": {},
   "source": [
    "The purpose of this tutorial is to demonstrate how to read an instance of Set Packing Problems."
   ]
  },
  {
   "cell_type": "markdown",
   "metadata": {},
   "source": [
    "---- \n",
    "## Formulation"
   ]
  },
  {
   "cell_type": "markdown",
   "metadata": {},
   "source": [
    "We can formulate the set packing problem (SPP) as the integer linear program:\n",
    "\n",
    "$$\n",
    "\\begin{aligned}\n",
    "\\max \\;  &  \\sum_{j \\in J} c_j x_j             & \\;   \\\\\n",
    "s.t. \\;  &  \\sum_{j \\in J} a_{i,j} x_j \\leq 1  & \\; \\forall i \\in I \\\\ \n",
    "     \\;  &  x_j \\in \\{0,1\\}                    & \\; \\forall j \\in J \\\\\n",
    "     \\;  &  a_{i,j} \\in \\{0,1\\}                & \\; \\forall i \\in I, \\forall j \\in J\n",
    "\\end{aligned}\n",
    "$$\n",
    "\n",
    "with $J=\\{1,\\ldots,n\\}$ and $I=\\{1,\\ldots,m\\}$"
   ]
  },
  {
   "cell_type": "markdown",
   "metadata": {},
   "source": [
    "## Format OR-library"
   ]
  },
  {
   "cell_type": "markdown",
   "metadata": {},
   "source": [
    "[http://people.brunel.ac.uk/~mastjjb/jeb/info.html](http://people.brunel.ac.uk/~mastjjb/jeb/info.html) :\n",
    "\n",
    "number of rows ($m$), number of columns ($n$)\n",
    "\n",
    "the cost of each column $c_j, \\; j=1,...,n$\n",
    "\n",
    "for each row $i (i=1,...,m)$: the number of columns which cover row $i$\n",
    "\n",
    "followed by a list of the columns which cover row $i$"
   ]
  },
  {
   "cell_type": "markdown",
   "metadata": {},
   "source": [
    "## Example"
   ]
  },
  {
   "cell_type": "markdown",
   "metadata": {},
   "source": [
    "An instance with 6 variables and 7 constraints:\n",
    "\n",
    "```\n",
    "    7 6                \n",
    "    7 2 4 6 3 1     \n",
    "    3               \n",
    "    1 2 3           \n",
    "    3               \n",
    "    2 5 6           \n",
    "    3            \n",
    "    1 2 4       \n",
    "    3           \n",
    "    2 3 5       \n",
    "    2           \n",
    "    4 6         \n",
    "    3           \n",
    "    3 4 5       \n",
    "    2           \n",
    "    1 5          \n",
    "```\n",
    "It is saved on file named ``didactic.dat``"
   ]
  },
  {
   "cell_type": "markdown",
   "metadata": {},
   "source": [
    "----- \n",
    "\n",
    "## Parsing a file"
   ]
  },
  {
   "cell_type": "markdown",
   "metadata": {},
   "source": [
    "#### Select and open a file:"
   ]
  },
  {
   "cell_type": "code",
   "execution_count": null,
   "metadata": {},
   "outputs": [],
   "source": [
    "fname  = \"didactic.dat\""
   ]
  },
  {
   "cell_type": "code",
   "execution_count": null,
   "metadata": {},
   "outputs": [],
   "source": [
    "f = open(fname)"
   ]
  },
  {
   "cell_type": "markdown",
   "metadata": {},
   "source": [
    "#### Read the first line and get the values :"
   ]
  },
  {
   "cell_type": "markdown",
   "metadata": {},
   "source": [
    "(step by step) "
   ]
  },
  {
   "cell_type": "code",
   "execution_count": null,
   "metadata": {},
   "outputs": [],
   "source": [
    "line = readline(f)"
   ]
  },
  {
   "cell_type": "code",
   "execution_count": null,
   "metadata": {},
   "outputs": [],
   "source": [
    "values = split(line)"
   ]
  },
  {
   "cell_type": "code",
   "execution_count": null,
   "metadata": {},
   "outputs": [],
   "source": [
    "m = parse.(Int, values[1])"
   ]
  },
  {
   "cell_type": "code",
   "execution_count": null,
   "metadata": {},
   "outputs": [],
   "source": [
    "n = parse.(Int, values[2])"
   ]
  },
  {
   "cell_type": "markdown",
   "metadata": {},
   "source": [
    "(all-in-one)"
   ]
  },
  {
   "cell_type": "code",
   "execution_count": null,
   "metadata": {},
   "outputs": [],
   "source": [
    "m,n = parse.(Int, split(readline(f)) )"
   ]
  },
  {
   "cell_type": "markdown",
   "metadata": {},
   "source": [
    "#### Read the second line and get the values :"
   ]
  },
  {
   "cell_type": "code",
   "execution_count": null,
   "metadata": {},
   "outputs": [],
   "source": [
    "C = parse.(Int, split(readline(f)))"
   ]
  },
  {
   "cell_type": "markdown",
   "metadata": {},
   "source": [
    "#### Read all constraints and fill the matrix $A$ line by line:"
   ]
  },
  {
   "cell_type": "code",
   "execution_count": null,
   "metadata": {},
   "outputs": [],
   "source": [
    "A = zeros(Int, m, n)"
   ]
  },
  {
   "cell_type": "code",
   "execution_count": null,
   "metadata": {},
   "outputs": [],
   "source": [
    "for i=1:m\n",
    "    readline(f)\n",
    "    for value in split(readline(f))\n",
    "        j = parse(Int, value)\n",
    "        A[i,j] = 1\n",
    "    end\n",
    "end"
   ]
  },
  {
   "cell_type": "code",
   "execution_count": null,
   "metadata": {},
   "outputs": [],
   "source": [
    "A"
   ]
  },
  {
   "cell_type": "markdown",
   "metadata": {},
   "source": [
    "#### Close the file:"
   ]
  },
  {
   "cell_type": "code",
   "execution_count": null,
   "metadata": {},
   "outputs": [],
   "source": [
    "close(f)"
   ]
  },
  {
   "cell_type": "markdown",
   "metadata": {},
   "source": [
    "----- \n",
    "\n",
    "## Viewing the instance"
   ]
  },
  {
   "cell_type": "markdown",
   "metadata": {},
   "source": [
    "Printing the output (print/println version) :"
   ]
  },
  {
   "cell_type": "code",
   "execution_count": null,
   "metadata": {},
   "outputs": [],
   "source": [
    "println(\"Filename       \", fname)"
   ]
  },
  {
   "cell_type": "code",
   "execution_count": null,
   "metadata": {},
   "outputs": [],
   "source": [
    "println(\"#variables     $n\")\n",
    "println(\"#constraints   $m\")"
   ]
  },
  {
   "cell_type": "code",
   "execution_count": null,
   "metadata": {},
   "outputs": [],
   "source": [
    "println(\"C              \", C)\n",
    "println(\"A              \", A)"
   ]
  },
  {
   "cell_type": "markdown",
   "metadata": {},
   "source": [
    "Printing the output (printf version):"
   ]
  },
  {
   "cell_type": "code",
   "execution_count": null,
   "metadata": {},
   "outputs": [],
   "source": [
    "using Printf\n",
    "print(\"C             \")\n",
    "for j=1:n\n",
    "    @printf(\"%3d \",C[j])\n",
    "end\n",
    "@printf(\"\\n\\n\")\n",
    "\n",
    "print(\"A             \")\n",
    "for i=1:m\n",
    "    for j=1:n\n",
    "        @printf(\"%3d \",A[i,j])\n",
    "    end\n",
    "    @printf(\"\\n              \")\n",
    "end"
   ]
  },
  {
   "cell_type": "markdown",
   "metadata": {},
   "source": [
    "----\n",
    "\n",
    "## Writing a function"
   ]
  },
  {
   "cell_type": "markdown",
   "metadata": {},
   "source": [
    "After working interactively, it is good practice to implement your code in a\n",
    "function."
   ]
  },
  {
   "cell_type": "code",
   "execution_count": null,
   "metadata": {},
   "outputs": [],
   "source": [
    "# Loading an instance of SPP (format: OR-library)\n",
    "\n",
    "function loadSPP(fname)\n",
    "    \n",
    "    # fname : name of the file to parse\n",
    "    f = open(fname)\n",
    "    \n",
    "    # reading the #constraints (m) and #variables (n)\n",
    "    m, n = parse.(Int, split(readline(f)))\n",
    "    \n",
    "    # reading coefficients of the objective function\n",
    "    C = parse.(Int, split(readline(f)) )\n",
    "\n",
    "    # reading the m constraints and building the binary matrix A\n",
    "    A = zeros(Int, m, n)\n",
    "    for i=1:m\n",
    "        # reading the number of non-zero values on the constraint i (not used)\n",
    "        readline(f)\n",
    "        \n",
    "        # reading the index of non-zero values on the constraint i\n",
    "        for valeur in split(readline(f))\n",
    "          j = parse(Int, valeur)\n",
    "          A[i,j] = 1\n",
    "        end\n",
    "    end\n",
    "    \n",
    "    close(f)\n",
    "    \n",
    "    return C, A\n",
    "end"
   ]
  },
  {
   "cell_type": "markdown",
   "metadata": {},
   "source": [
    "Calling the function"
   ]
  },
  {
   "cell_type": "code",
   "execution_count": null,
   "metadata": {},
   "outputs": [],
   "source": [
    "C, A = loadSPP(\"didactic.dat\")"
   ]
  }
 ],
 "metadata": {
  "kernelspec": {
   "display_name": "Julia 1.10.0",
   "language": "julia",
   "name": "julia-1.10"
  },
  "language_info": {
   "file_extension": ".jl",
   "mimetype": "application/julia",
   "name": "julia",
   "version": "1.10.0"
  }
 },
 "nbformat": 4,
 "nbformat_minor": 3
}
