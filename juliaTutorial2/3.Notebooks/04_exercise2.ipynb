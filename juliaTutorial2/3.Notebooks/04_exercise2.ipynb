{
 "cells": [
  {
   "cell_type": "markdown",
   "metadata": {},
   "source": [
    "# Compute a _good_ solution with GRASP"
   ]
  },
  {
   "cell_type": "markdown",
   "metadata": {},
   "source": [
    "The purpose of this tutorial is to demonstrate how to compute a good solution with GRASP for the Set Packing Problem."
   ]
  },
  {
   "cell_type": "markdown",
   "metadata": {},
   "source": [
    "---- \n",
    "## 1. Loading a SPP instance"
   ]
  },
  {
   "cell_type": "markdown",
   "metadata": {},
   "source": [
    "#### Load the parser"
   ]
  },
  {
   "cell_type": "code",
   "execution_count": null,
   "metadata": {},
   "outputs": [],
   "source": [
    "path = \"../2.codes/\""
   ]
  },
  {
   "cell_type": "code",
   "execution_count": null,
   "metadata": {},
   "outputs": [],
   "source": [
    "include(path * \"MICparse.jl\")"
   ]
  },
  {
   "cell_type": "markdown",
   "metadata": {},
   "source": [
    "#### Read an instance:"
   ]
  },
  {
   "cell_type": "code",
   "execution_count": null,
   "metadata": {},
   "outputs": [],
   "source": [
    "fname = \"didactic.dat\"\n",
    "C_in, A_in  = loadSPP(fname)"
   ]
  },
  {
   "cell_type": "markdown",
   "metadata": {},
   "source": [
    "---- \n",
    "\n",
    "## 2. Construct a greedy randomized solution\n",
    "\n",
    "Constructive greedy algorithm (high level implementation)"
   ]
  },
  {
   "cell_type": "markdown",
   "metadata": {},
   "source": [
    "#### Setup the value of $\\alpha$"
   ]
  },
  {
   "cell_type": "code",
   "execution_count": null,
   "metadata": {},
   "outputs": [],
   "source": [
    "α = 0.7"
   ]
  },
  {
   "cell_type": "markdown",
   "metadata": {},
   "source": [
    "#### from greedy to greedy randomized construction $\\rightarrow$ only 1 line to change:"
   ]
  },
  {
   "cell_type": "code",
   "execution_count": null,
   "metadata": {},
   "outputs": [],
   "source": [
    "# -------------------------------------------------------------------------\n",
    "# initialization\n",
    "\n",
    "# data\n",
    "m,n = size(A_in)\n",
    "C = copy(C_in)\n",
    "A = copy(A_in)\n",
    "\n",
    "# solution\n",
    "z = 0  \n",
    "x = zeros(Int64, n) \n",
    "\n",
    "freeVariables = collect(1:n)    # all variables are free\n",
    "saturatedConstraints = Int64[]  # none constraint is saturated\n",
    "\n",
    "\n",
    "# -------------------------------------------------------------------------\n",
    "# remove from the instance all variables occuring in none constraint\n",
    "\n",
    "# identify all variables occuring in none constraint\n",
    "variablesNotConstrained = findall( isequal(0) , vec( sum(A, dims=1) ) )\n",
    "\n",
    "# fix to 1 into the solution all variables occuring in none constraint\n",
    "x[variablesNotConstrained] .= 1\n",
    "z += sum( C[variablesNotConstrained] )    \n",
    "\n",
    "# remove from the list of free variables those how have been fixed\n",
    "freeVariables = freeVariables[ setdiff( 1:end , variablesNotConstrained ) ]\n",
    "\n",
    "# remove columns corresponding to fixed variables\n",
    "C = C[ setdiff( 1:end , variablesNotConstrained ) ]\n",
    "A = A[ : , setdiff( 1:end , variablesNotConstrained ) ]\n",
    "\n",
    "# -------------------------------------------------------------------------\n",
    "# select iteratively variables to add into the solution\n",
    "\n",
    "while (size(A,1) != 0) && (size(C,1) != 0)\n",
    "\n",
    "    # ---------------------------------------------------------------------\n",
    "    # select one variable and add it into the current solution\n",
    "\n",
    "    utility = C ./ vec( sum(A, dims=1) )\n",
    "    # !!!!!!!!!!!!! BEGIN !!!!!!!!!!!!!\n",
    "    variableSelected = selectionRCL( utility , α )\n",
    "    # !!!!!!!!!!!!!  END  !!!!!!!!!!!!!        \n",
    "\n",
    "    x[ freeVariables[ variableSelected ] ] = 1 \n",
    "    z += C[variableSelected] \n",
    "\n",
    "    \n",
    "    # ---------------------------------------------------------------------\n",
    "    # identify all the variables impacted by the variable fixed \n",
    "\n",
    "    # identify all constraints concerned by the selected variable: constraints saturated => to remove\n",
    "    saturatedConstraints = findall( isequal(1) , A[ : , variableSelected ] ) \n",
    "\n",
    "    # identify all variables linked to the variable selected\n",
    "    linkedVariables = Int64[]\n",
    "    for i in saturatedConstraints \n",
    "        linkedVariables = union( linkedVariables , findall( isequal(1) , A[i,:] ) ) \n",
    "    end\n",
    "    linkedVariables = unique(linkedVariables) \n",
    "\n",
    "    # remove from the list of free variables those how are linked (and thus fixed)\n",
    "    freeVariables = freeVariables[ setdiff( 1:end , linkedVariables ) ]\n",
    "\n",
    "    \n",
    "    # ---------------------------------------------------------------------\n",
    "    # reduce the instance consequently to the fixed variables\n",
    "\n",
    "    # remove columns corresponding to fixed variables\n",
    "    C = C[ setdiff(1:end , linkedVariables) ]\n",
    "    A = A[ : , setdiff( 1:end , linkedVariables ) ]\n",
    "\n",
    "    # remove lines of A corresponding to saturated constraints\n",
    "    A = A[ setdiff( 1:end , saturatedConstraints ) , : ]\n",
    "\n",
    "    \n",
    "    # ---------------------------------------------------------------------\n",
    "    # remove lines of A containing only zero value => constraint not related to a variable\n",
    "\n",
    "    removableConstraints = Int64[]\n",
    "    for line in (1:size(A,1))\n",
    "        if findfirst( isequal(1) , A[line,:] ) == nothing\n",
    "            removableConstraints = union( removableConstraints , line )\n",
    "        end\n",
    "    end\n",
    "    A = A[ setdiff( 1:end , removableConstraints ) , : ]\n",
    "\n",
    "end"
   ]
  },
  {
   "cell_type": "markdown",
   "metadata": {},
   "source": [
    "Coding the RCL:"
   ]
  },
  {
   "cell_type": "code",
   "execution_count": null,
   "metadata": {},
   "outputs": [],
   "source": [
    "function selectionRCL(u, α)\n",
    "\n",
    "    ϵ = 10^-10\n",
    "    umin = minimum(u)\n",
    "    umax = maximum(u)\n",
    "    ulimit = umin + α * (umax - umin)\n",
    "    rcl = (Int64)[]\n",
    "\n",
    "    for j=1:length(u)\n",
    "        if u[j] >= ulimit - ϵ\n",
    "            push!(rcl,j)\n",
    "        end\n",
    "    end\n",
    "    jselect = rcl[rand(1:length(rcl))]\n",
    "\n",
    "    return jselect\n",
    "end"
   ]
  },
  {
   "cell_type": "markdown",
   "metadata": {},
   "source": [
    "We can now show the feasible solution:"
   ]
  },
  {
   "cell_type": "code",
   "execution_count": null,
   "metadata": {},
   "outputs": [],
   "source": [
    "@show x"
   ]
  },
  {
   "cell_type": "code",
   "execution_count": null,
   "metadata": {},
   "outputs": [],
   "source": [
    "@show z"
   ]
  },
  {
   "cell_type": "code",
   "execution_count": null,
   "metadata": {},
   "outputs": [],
   "source": [
    "x1 = [i for i in 1:n if x[i] > 0.5]"
   ]
  },
  {
   "cell_type": "markdown",
   "metadata": {},
   "source": [
    "----- \n",
    "\n",
    "## 3. GRASP for SPP\n"
   ]
  },
  {
   "cell_type": "markdown",
   "metadata": {},
   "source": [
    "#### Initialization"
   ]
  },
  {
   "cell_type": "code",
   "execution_count": null,
   "metadata": {},
   "outputs": [],
   "source": [
    "using Printf\n",
    "\n",
    "path = \"../2.codes/\"\n",
    "include(path * \"MICparse.jl\")\n",
    "include(path * \"MICconstructionGrasp.jl\")\n",
    "include(path * \"MICimprovement.jl\")"
   ]
  },
  {
   "cell_type": "code",
   "execution_count": null,
   "metadata": {},
   "outputs": [],
   "source": [
    "function exercise2(fname, nbIteration, α)\n",
    "\n",
    "    C, A  = loadSPP(fname)\n",
    "\n",
    "    start = time()\n",
    "    zTheBest = 0\n",
    "    for i=1:nbIteration\n",
    "        xConstruction, zConstruction, tConstruction = greedyRandomizedConstruction(C, A, α)\n",
    "        xImprovement, zImprovement, tImprovement = localSearch(C, A, xConstruction, zConstruction)\n",
    "        zTheBest = max(zTheBest, zImprovement)\n",
    "    end\n",
    "    tGRASP = time()-start\n",
    "\n",
    "    println(\"-----------------------------------------------------------------\")\n",
    "    println(\"Instance : \",fname)\n",
    "    @printf(\"  z(xBest) = %d | t = %f sec \\n\\n\", zTheBest, tGRASP)\n",
    "\n",
    "    return nothing\n",
    "end"
   ]
  },
  {
   "cell_type": "code",
   "execution_count": null,
   "metadata": {},
   "outputs": [],
   "source": [
    "fname = \"didactic.dat\"\n",
    "#fname = \"pb_100rnd0100.dat\"\n",
    "#fname = \"pb_200rnd0900.dat\"\n",
    "#fname = \"pb_500rnd0100.dat\"\n",
    "\n",
    "nbIteration = 10\n",
    "α           = 0.7\n",
    "\n",
    "exercise2(fname, nbIteration, α)"
   ]
  },
  {
   "cell_type": "markdown",
   "metadata": {},
   "source": [
    "----- \n",
    "\n",
    "## With a grapical output"
   ]
  },
  {
   "cell_type": "code",
   "execution_count": null,
   "metadata": {},
   "outputs": [],
   "source": [
    "using Printf\n",
    "using PyPlot"
   ]
  },
  {
   "cell_type": "code",
   "execution_count": null,
   "metadata": {},
   "outputs": [],
   "source": [
    "function plotRunGrasp(iname, zinit, zls, zbest)\n",
    "\n",
    "    figure(\"Trace of a run\",figsize=(6,6)) # Create a new figure\n",
    "    title(\"GRASP-SPP | \\$z_{Init}\\$ \\$z_{LS}\\$ \\$z_{Best}\\$ | \" * iname)\n",
    "\n",
    "    xlabel(\"Iterations\")\n",
    "    ylabel(\"values of z(x)\")\n",
    "    ylim(max(0,minimum(zinit)-100), maximum(zbest)+10)\n",
    "\n",
    "    nPoint = length(zinit)\n",
    "    x=collect(1:nPoint)\n",
    "    \n",
    "    xticks([1,convert(Int64,ceil(nPoint/4)),convert(Int64,ceil(nPoint/2)), convert(Int64,ceil(nPoint/4*3)),nPoint])\n",
    "    \n",
    "    plot(x,zbest[1:nPoint], linewidth=2.0, color=\"green\", label=\"best solutions\")\n",
    "    plot(x,zls[1:nPoint],ls=\"\",marker=\"^\",ms=2,color=\"green\",label=\"all improved solutions\")\n",
    "    plot(x,zinit[1:nPoint],ls=\"\",marker=\".\",ms=2,color=\"red\",label=\"all constructed solutions\")\n",
    "    \n",
    "    vlines(x, zinit, zls, linewidth=0.5)\n",
    "    legend(loc=4, fontsize =\"small\")\n",
    "\n",
    "    valeur = \"zbest=\" * string(zbest[end])\n",
    "    annotate(valeur, xy=[0.615;0.25], xycoords=\"figure fraction\", ha=\"left\", va=\"center\")\n",
    "\n",
    "    return nothing\n",
    "end"
   ]
  },
  {
   "cell_type": "code",
   "execution_count": null,
   "metadata": {},
   "outputs": [],
   "source": [
    "path = \"../2.codes/\"\n",
    "include(path * \"MICparse.jl\")\n",
    "include(path * \"MICconstructionGrasp.jl\")\n",
    "include(path * \"MICimprovement.jl\")"
   ]
  },
  {
   "cell_type": "code",
   "execution_count": null,
   "metadata": {},
   "outputs": [],
   "source": [
    "function exercise2bis(fname, nbIteration, α)\n",
    "\n",
    "    C, A  = loadSPP(fname)\n",
    "\n",
    "    zConstruction = zeros(Int64, nbIteration) \n",
    "    zImprovement  = zeros(Int64, nbIteration) \n",
    "    zBest         = zeros(Int64, nbIteration) \n",
    "\n",
    "    start = time()\n",
    "    zTheBest = 0\n",
    "    for i=1:nbIteration\n",
    "        xConstruction, zConstruction[i], tConstruction = greedyRandomizedConstruction(C, A, α)\n",
    "        xImprovement, zImprovement[i], tImprovement = localSearch(C, A, xConstruction, zConstruction[i])\n",
    "        zTheBest = max(zTheBest, zImprovement[i])\n",
    "        zBest[i] = zTheBest\n",
    "\n",
    "    end\n",
    "    tGRASP = time()-start\n",
    "\n",
    "    println(\"-----------------------------------------------------------------\")\n",
    "    println(\"Instance : \",fname)\n",
    "    @printf(\"  z(xBest) = %d | t = %f sec \\n\\n\", zTheBest, tGRASP)\n",
    "    plotRunGrasp(fname, zConstruction, zImprovement, zBest)\n",
    "\n",
    "    return nothing\n",
    "end"
   ]
  },
  {
   "cell_type": "code",
   "execution_count": null,
   "metadata": {},
   "outputs": [],
   "source": [
    "#fname = \"didactic.dat\"\n",
    "fname = \"pb_100rnd0100.dat\"\n",
    "#fname = \"pb_200rnd0900.dat\"\n",
    "#fname = \"pb_500rnd0100.dat\"\n",
    "\n",
    "nbIteration = 10\n",
    "α           = 0.7\n",
    "\n",
    "exercise2bis(fname, nbIteration, α)"
   ]
  }
 ],
 "metadata": {
  "kernelspec": {
   "display_name": "Julia 1.10.0",
   "language": "julia",
   "name": "julia-1.10"
  },
  "language_info": {
   "file_extension": ".jl",
   "mimetype": "application/julia",
   "name": "julia",
   "version": "1.10.0"
  }
 },
 "nbformat": 4,
 "nbformat_minor": 3
}
